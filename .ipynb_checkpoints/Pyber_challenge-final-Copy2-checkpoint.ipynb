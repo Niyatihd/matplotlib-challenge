{
 "cells": [
  {
   "cell_type": "code",
   "execution_count": 166,
   "metadata": {
    "collapsed": true
   },
   "outputs": [],
   "source": [
    "# Dependencies\n",
    "import pandas as pd\n",
    "import numpy as np\n",
    "import os\n",
    "import matplotlib.pyplot as plt\n",
    "import string"
   ]
  },
  {
   "cell_type": "code",
   "execution_count": 167,
   "metadata": {},
   "outputs": [
    {
     "data": {
      "text/html": [
       "<div>\n",
       "<style>\n",
       "    .dataframe thead tr:only-child th {\n",
       "        text-align: right;\n",
       "    }\n",
       "\n",
       "    .dataframe thead th {\n",
       "        text-align: left;\n",
       "    }\n",
       "\n",
       "    .dataframe tbody tr th {\n",
       "        vertical-align: top;\n",
       "    }\n",
       "</style>\n",
       "<table border=\"1\" class=\"dataframe\">\n",
       "  <thead>\n",
       "    <tr style=\"text-align: right;\">\n",
       "      <th></th>\n",
       "      <th>city</th>\n",
       "      <th>driver_count</th>\n",
       "      <th>type</th>\n",
       "    </tr>\n",
       "  </thead>\n",
       "  <tbody>\n",
       "    <tr>\n",
       "      <th>84</th>\n",
       "      <td>Port James</td>\n",
       "      <td>15</td>\n",
       "      <td>Suburban</td>\n",
       "    </tr>\n",
       "    <tr>\n",
       "      <th>100</th>\n",
       "      <td>Port James</td>\n",
       "      <td>3</td>\n",
       "      <td>Suburban</td>\n",
       "    </tr>\n",
       "  </tbody>\n",
       "</table>\n",
       "</div>"
      ],
      "text/plain": [
       "           city  driver_count      type\n",
       "84   Port James            15  Suburban\n",
       "100  Port James             3  Suburban"
      ]
     },
     "execution_count": 167,
     "metadata": {},
     "output_type": "execute_result"
    }
   ],
   "source": [
    "# Read the csv files\n",
    "city_data = pd.read_csv(\"raw_data/city_data.csv\")\n",
    "ride_data = pd.read_csv(\"raw_data/ride_data.csv\")\n",
    "city_data.head()\n",
    "x = city_data.loc[city_data['city'] == 'Port James']\n",
    "x"
   ]
  },
  {
   "cell_type": "code",
   "execution_count": 219,
   "metadata": {},
   "outputs": [
    {
     "data": {
      "text/html": [
       "<div>\n",
       "<style>\n",
       "    .dataframe thead tr:only-child th {\n",
       "        text-align: right;\n",
       "    }\n",
       "\n",
       "    .dataframe thead th {\n",
       "        text-align: left;\n",
       "    }\n",
       "\n",
       "    .dataframe tbody tr th {\n",
       "        vertical-align: top;\n",
       "    }\n",
       "</style>\n",
       "<table border=\"1\" class=\"dataframe\">\n",
       "  <thead>\n",
       "    <tr style=\"text-align: right;\">\n",
       "      <th></th>\n",
       "      <th>city</th>\n",
       "      <th>driver_count</th>\n",
       "      <th>type</th>\n",
       "    </tr>\n",
       "  </thead>\n",
       "  <tbody>\n",
       "    <tr>\n",
       "      <th>0</th>\n",
       "      <td>Kelseyland</td>\n",
       "      <td>63</td>\n",
       "      <td>Urban</td>\n",
       "    </tr>\n",
       "    <tr>\n",
       "      <th>1</th>\n",
       "      <td>Nguyenbury</td>\n",
       "      <td>8</td>\n",
       "      <td>Urban</td>\n",
       "    </tr>\n",
       "    <tr>\n",
       "      <th>2</th>\n",
       "      <td>East Douglas</td>\n",
       "      <td>12</td>\n",
       "      <td>Urban</td>\n",
       "    </tr>\n",
       "    <tr>\n",
       "      <th>3</th>\n",
       "      <td>West Dawnfurt</td>\n",
       "      <td>34</td>\n",
       "      <td>Urban</td>\n",
       "    </tr>\n",
       "    <tr>\n",
       "      <th>4</th>\n",
       "      <td>Rodriguezburgh</td>\n",
       "      <td>52</td>\n",
       "      <td>Urban</td>\n",
       "    </tr>\n",
       "  </tbody>\n",
       "</table>\n",
       "</div>"
      ],
      "text/plain": [
       "             city  driver_count   type\n",
       "0      Kelseyland            63  Urban\n",
       "1      Nguyenbury             8  Urban\n",
       "2    East Douglas            12  Urban\n",
       "3   West Dawnfurt            34  Urban\n",
       "4  Rodriguezburgh            52  Urban"
      ]
     },
     "execution_count": 219,
     "metadata": {},
     "output_type": "execute_result"
    }
   ],
   "source": [
    "# Check for NAN values and replace with 0\n",
    "city_data.fillna(value=0)\n",
    "city_data.head()\n",
    "#len(city_data)\n"
   ]
  },
  {
   "cell_type": "markdown",
   "metadata": {},
   "source": [
    "### MERGE DUPLICATE ROWS FOR SAME CITY"
   ]
  },
  {
   "cell_type": "code",
   "execution_count": 169,
   "metadata": {},
   "outputs": [
    {
     "data": {
      "text/html": [
       "<div>\n",
       "<style>\n",
       "    .dataframe thead tr:only-child th {\n",
       "        text-align: right;\n",
       "    }\n",
       "\n",
       "    .dataframe thead th {\n",
       "        text-align: left;\n",
       "    }\n",
       "\n",
       "    .dataframe tbody tr th {\n",
       "        vertical-align: top;\n",
       "    }\n",
       "</style>\n",
       "<table border=\"1\" class=\"dataframe\">\n",
       "  <thead>\n",
       "    <tr style=\"text-align: right;\">\n",
       "      <th></th>\n",
       "      <th>type</th>\n",
       "      <th>driver_count</th>\n",
       "    </tr>\n",
       "    <tr>\n",
       "      <th>city</th>\n",
       "      <th></th>\n",
       "      <th></th>\n",
       "    </tr>\n",
       "  </thead>\n",
       "  <tbody>\n",
       "    <tr>\n",
       "      <th>Alvarezhaven</th>\n",
       "      <td>Urban</td>\n",
       "      <td>21</td>\n",
       "    </tr>\n",
       "    <tr>\n",
       "      <th>Alyssaberg</th>\n",
       "      <td>Urban</td>\n",
       "      <td>67</td>\n",
       "    </tr>\n",
       "    <tr>\n",
       "      <th>Anitamouth</th>\n",
       "      <td>Suburban</td>\n",
       "      <td>16</td>\n",
       "    </tr>\n",
       "    <tr>\n",
       "      <th>Antoniomouth</th>\n",
       "      <td>Urban</td>\n",
       "      <td>21</td>\n",
       "    </tr>\n",
       "    <tr>\n",
       "      <th>Aprilchester</th>\n",
       "      <td>Urban</td>\n",
       "      <td>49</td>\n",
       "    </tr>\n",
       "  </tbody>\n",
       "</table>\n",
       "</div>"
      ],
      "text/plain": [
       "                  type  driver_count\n",
       "city                                \n",
       "Alvarezhaven     Urban            21\n",
       "Alyssaberg       Urban            67\n",
       "Anitamouth    Suburban            16\n",
       "Antoniomouth     Urban            21\n",
       "Aprilchester     Urban            49"
      ]
     },
     "execution_count": 169,
     "metadata": {},
     "output_type": "execute_result"
    }
   ],
   "source": [
    "city_data_grouped = city_data.groupby(['city', 'type'])\n",
    "city_data_unique = pd.DataFrame(city_data_grouped.sum())\n",
    "#city_data_unique.head()\n",
    "city_data_unique = city_data_unique.reset_index().set_index('city')\n",
    "city_data_unique.head()\n",
    "# x1 = city_data_unique.loc[['Port James']]\n",
    "# len(x1)\n"
   ]
  },
  {
   "cell_type": "code",
   "execution_count": 170,
   "metadata": {},
   "outputs": [
    {
     "data": {
      "text/html": [
       "<div>\n",
       "<style>\n",
       "    .dataframe thead tr:only-child th {\n",
       "        text-align: right;\n",
       "    }\n",
       "\n",
       "    .dataframe thead th {\n",
       "        text-align: left;\n",
       "    }\n",
       "\n",
       "    .dataframe tbody tr th {\n",
       "        vertical-align: top;\n",
       "    }\n",
       "</style>\n",
       "<table border=\"1\" class=\"dataframe\">\n",
       "  <thead>\n",
       "    <tr style=\"text-align: right;\">\n",
       "      <th></th>\n",
       "      <th>date</th>\n",
       "      <th>fare</th>\n",
       "      <th>ride_id</th>\n",
       "    </tr>\n",
       "    <tr>\n",
       "      <th>city</th>\n",
       "      <th></th>\n",
       "      <th></th>\n",
       "      <th></th>\n",
       "    </tr>\n",
       "  </thead>\n",
       "  <tbody>\n",
       "    <tr>\n",
       "      <th>Sarabury</th>\n",
       "      <td>2016-01-16 13:49:27</td>\n",
       "      <td>38.35</td>\n",
       "      <td>5403689035038</td>\n",
       "    </tr>\n",
       "    <tr>\n",
       "      <th>South Roy</th>\n",
       "      <td>2016-01-02 18:42:34</td>\n",
       "      <td>17.49</td>\n",
       "      <td>4036272335942</td>\n",
       "    </tr>\n",
       "    <tr>\n",
       "      <th>Wiseborough</th>\n",
       "      <td>2016-01-21 17:35:29</td>\n",
       "      <td>44.18</td>\n",
       "      <td>3645042422587</td>\n",
       "    </tr>\n",
       "    <tr>\n",
       "      <th>Spencertown</th>\n",
       "      <td>2016-07-31 14:53:22</td>\n",
       "      <td>6.87</td>\n",
       "      <td>2242596575892</td>\n",
       "    </tr>\n",
       "    <tr>\n",
       "      <th>Nguyenbury</th>\n",
       "      <td>2016-07-09 04:42:44</td>\n",
       "      <td>6.28</td>\n",
       "      <td>1543057793673</td>\n",
       "    </tr>\n",
       "  </tbody>\n",
       "</table>\n",
       "</div>"
      ],
      "text/plain": [
       "                            date   fare        ride_id\n",
       "city                                                  \n",
       "Sarabury     2016-01-16 13:49:27  38.35  5403689035038\n",
       "South Roy    2016-01-02 18:42:34  17.49  4036272335942\n",
       "Wiseborough  2016-01-21 17:35:29  44.18  3645042422587\n",
       "Spencertown  2016-07-31 14:53:22   6.87  2242596575892\n",
       "Nguyenbury   2016-07-09 04:42:44   6.28  1543057793673"
      ]
     },
     "execution_count": 170,
     "metadata": {},
     "output_type": "execute_result"
    }
   ],
   "source": [
    "ride_data.fillna(value=0)\n",
    "ride_data.head()\n",
    "y = ride_data.loc[ride_data['city'] == 'Port James']\n",
    "# y['fare'].count()\n",
    "#y['fare'].mean()\n",
    "len(y)\n",
    "ride_data = ride_data.set_index('city')\n",
    "ride_data.head()"
   ]
  },
  {
   "cell_type": "code",
   "execution_count": 171,
   "metadata": {},
   "outputs": [
    {
     "data": {
      "text/html": [
       "<div>\n",
       "<style>\n",
       "    .dataframe thead tr:only-child th {\n",
       "        text-align: right;\n",
       "    }\n",
       "\n",
       "    .dataframe thead th {\n",
       "        text-align: left;\n",
       "    }\n",
       "\n",
       "    .dataframe tbody tr th {\n",
       "        vertical-align: top;\n",
       "    }\n",
       "</style>\n",
       "<table border=\"1\" class=\"dataframe\">\n",
       "  <thead>\n",
       "    <tr style=\"text-align: right;\">\n",
       "      <th></th>\n",
       "      <th>type</th>\n",
       "      <th>driver_count</th>\n",
       "      <th>ride_id</th>\n",
       "      <th>fare</th>\n",
       "    </tr>\n",
       "    <tr>\n",
       "      <th>city</th>\n",
       "      <th></th>\n",
       "      <th></th>\n",
       "      <th></th>\n",
       "      <th></th>\n",
       "    </tr>\n",
       "  </thead>\n",
       "  <tbody>\n",
       "    <tr>\n",
       "      <th>Port James</th>\n",
       "      <td>Suburban</td>\n",
       "      <td>18</td>\n",
       "      <td>2259499336994</td>\n",
       "      <td>15.77</td>\n",
       "    </tr>\n",
       "  </tbody>\n",
       "</table>\n",
       "</div>"
      ],
      "text/plain": [
       "                type  driver_count        ride_id   fare\n",
       "city                                                    \n",
       "Port James  Suburban            18  2259499336994  15.77"
      ]
     },
     "execution_count": 171,
     "metadata": {},
     "output_type": "execute_result"
    }
   ],
   "source": [
    "# join both the DFs into one\n",
    "cityride_df = city_data_unique.join(ride_data)\n",
    "cityride_df = cityride_df[[\"type\", \"driver_count\", \"ride_id\", \"fare\"]]\n",
    "cityride_df.head()\n",
    "# len(cityride_df)\n",
    "\n",
    "#h = cityride_df.loc[['Port James']]\n",
    "# w =h['ride_id'].unique()\n",
    "i =  cityride_df.loc[cityride_df['ride_id'] == 2259499336994]\n",
    "# len(w)\n",
    "#len(h)\n",
    "i\n"
   ]
  },
  {
   "cell_type": "markdown",
   "metadata": {},
   "source": [
    "# PYBER ANALYSIS\n",
    "------"
   ]
  },
  {
   "cell_type": "markdown",
   "metadata": {},
   "source": [
    "### GET KEY VARIABLES"
   ]
  },
  {
   "cell_type": "code",
   "execution_count": 172,
   "metadata": {},
   "outputs": [
    {
     "data": {
      "text/html": [
       "<div>\n",
       "<style>\n",
       "    .dataframe thead tr:only-child th {\n",
       "        text-align: right;\n",
       "    }\n",
       "\n",
       "    .dataframe thead th {\n",
       "        text-align: left;\n",
       "    }\n",
       "\n",
       "    .dataframe tbody tr th {\n",
       "        vertical-align: top;\n",
       "    }\n",
       "</style>\n",
       "<table border=\"1\" class=\"dataframe\">\n",
       "  <thead>\n",
       "    <tr style=\"text-align: right;\">\n",
       "      <th></th>\n",
       "      <th>type</th>\n",
       "    </tr>\n",
       "    <tr>\n",
       "      <th>city</th>\n",
       "      <th></th>\n",
       "    </tr>\n",
       "  </thead>\n",
       "  <tbody>\n",
       "    <tr>\n",
       "      <th>Port James</th>\n",
       "      <td>Suburban</td>\n",
       "    </tr>\n",
       "  </tbody>\n",
       "</table>\n",
       "</div>"
      ],
      "text/plain": [
       "                type\n",
       "city                \n",
       "Port James  Suburban"
      ]
     },
     "execution_count": 172,
     "metadata": {},
     "output_type": "execute_result"
    }
   ],
   "source": [
    "# Groupby on city\n",
    "cityride_grouped_df = cityride_df.groupby([\"city\"])\n",
    "\n",
    "# Average fare per city by using groupby object\n",
    "average_fare = cityride_grouped_df[\"fare\"].mean()\n",
    "\n",
    "# Total number of rides per city\n",
    "total_rides_city = cityride_grouped_df[\"ride_id\"].count()\n",
    "\n",
    "# Total number of driver per city\n",
    "driver_count_df = city_data_unique[[\"driver_count\"]]\n",
    "\n",
    "# City Type (Urban, Suburban, Rural)\n",
    "city_type_df= city_data_unique[[\"type\"]]\n",
    "\n",
    "  \n",
    "#average_fare.head()\n",
    "#total_rides_city\n",
    "#final_df\n",
    "# driver_count_grouped_df.head()\n",
    "#city_type_grouped_df.head(100)\n",
    "city_type_df.loc[['Port James']]"
   ]
  },
  {
   "cell_type": "markdown",
   "metadata": {},
   "source": [
    "### RESULTING DATAFRAME\n",
    "\n"
   ]
  },
  {
   "cell_type": "code",
   "execution_count": 200,
   "metadata": {},
   "outputs": [
    {
     "data": {
      "text/html": [
       "<div>\n",
       "<style>\n",
       "    .dataframe thead tr:only-child th {\n",
       "        text-align: right;\n",
       "    }\n",
       "\n",
       "    .dataframe thead th {\n",
       "        text-align: left;\n",
       "    }\n",
       "\n",
       "    .dataframe tbody tr th {\n",
       "        vertical-align: top;\n",
       "    }\n",
       "</style>\n",
       "<table border=\"1\" class=\"dataframe\">\n",
       "  <thead>\n",
       "    <tr style=\"text-align: right;\">\n",
       "      <th></th>\n",
       "      <th>Average Fare</th>\n",
       "      <th>Rides Per City</th>\n",
       "      <th>type</th>\n",
       "      <th>driver_count</th>\n",
       "    </tr>\n",
       "    <tr>\n",
       "      <th>city</th>\n",
       "      <th></th>\n",
       "      <th></th>\n",
       "      <th></th>\n",
       "      <th></th>\n",
       "    </tr>\n",
       "  </thead>\n",
       "  <tbody>\n",
       "    <tr>\n",
       "      <th>Alvarezhaven</th>\n",
       "      <td>23.93</td>\n",
       "      <td>31</td>\n",
       "      <td>Urban</td>\n",
       "      <td>21</td>\n",
       "    </tr>\n",
       "    <tr>\n",
       "      <th>Alyssaberg</th>\n",
       "      <td>20.61</td>\n",
       "      <td>26</td>\n",
       "      <td>Urban</td>\n",
       "      <td>67</td>\n",
       "    </tr>\n",
       "    <tr>\n",
       "      <th>Anitamouth</th>\n",
       "      <td>37.32</td>\n",
       "      <td>9</td>\n",
       "      <td>Suburban</td>\n",
       "      <td>16</td>\n",
       "    </tr>\n",
       "    <tr>\n",
       "      <th>Antoniomouth</th>\n",
       "      <td>23.62</td>\n",
       "      <td>22</td>\n",
       "      <td>Urban</td>\n",
       "      <td>21</td>\n",
       "    </tr>\n",
       "    <tr>\n",
       "      <th>Aprilchester</th>\n",
       "      <td>21.98</td>\n",
       "      <td>19</td>\n",
       "      <td>Urban</td>\n",
       "      <td>49</td>\n",
       "    </tr>\n",
       "  </tbody>\n",
       "</table>\n",
       "</div>"
      ],
      "text/plain": [
       "              Average Fare  Rides Per City      type  driver_count\n",
       "city                                                              \n",
       "Alvarezhaven         23.93              31     Urban            21\n",
       "Alyssaberg           20.61              26     Urban            67\n",
       "Anitamouth           37.32               9  Suburban            16\n",
       "Antoniomouth         23.62              22     Urban            21\n",
       "Aprilchester         21.98              19     Urban            49"
      ]
     },
     "execution_count": 200,
     "metadata": {},
     "output_type": "execute_result"
    }
   ],
   "source": [
    "results_df = pd.DataFrame({\"Average Fare\":average_fare, \"Rides Per City\":total_rides_city})\n",
    "results_df = results_df.join([city_type_df, driver_count_df])\n",
    "\n",
    "# Format the Average Fare column\n",
    "#results_df[\"Average Fare\"] = results_df[\"Average Fare\"]#.map(\"${0:,.2f}\".format)\n",
    "results_df=results_df.round(2)\n",
    "results_df.head()\n",
    "#len(results_df)\n",
    "#results_df.loc[['Port James']]"
   ]
  },
  {
   "cell_type": "code",
   "execution_count": 201,
   "metadata": {},
   "outputs": [
    {
     "data": {
      "text/html": [
       "<div>\n",
       "<style>\n",
       "    .dataframe thead tr:only-child th {\n",
       "        text-align: right;\n",
       "    }\n",
       "\n",
       "    .dataframe thead th {\n",
       "        text-align: left;\n",
       "    }\n",
       "\n",
       "    .dataframe tbody tr th {\n",
       "        vertical-align: top;\n",
       "    }\n",
       "</style>\n",
       "<table border=\"1\" class=\"dataframe\">\n",
       "  <thead>\n",
       "    <tr style=\"text-align: right;\">\n",
       "      <th></th>\n",
       "      <th>Average Fare</th>\n",
       "      <th>Rides Per City</th>\n",
       "      <th>type</th>\n",
       "      <th>driver_count</th>\n",
       "    </tr>\n",
       "    <tr>\n",
       "      <th>city</th>\n",
       "      <th></th>\n",
       "      <th></th>\n",
       "      <th></th>\n",
       "      <th></th>\n",
       "    </tr>\n",
       "  </thead>\n",
       "  <tbody>\n",
       "    <tr>\n",
       "      <th>Port James</th>\n",
       "      <td>31.81</td>\n",
       "      <td>32</td>\n",
       "      <td>Suburban</td>\n",
       "      <td>18</td>\n",
       "    </tr>\n",
       "  </tbody>\n",
       "</table>\n",
       "</div>"
      ],
      "text/plain": [
       "            Average Fare  Rides Per City      type  driver_count\n",
       "city                                                            \n",
       "Port James         31.81              32  Suburban            18"
      ]
     },
     "execution_count": 201,
     "metadata": {},
     "output_type": "execute_result"
    }
   ],
   "source": [
    "#### TEST\n",
    "z = results_df.loc[[\"Port James\"]]\n",
    "z"
   ]
  },
  {
   "cell_type": "markdown",
   "metadata": {},
   "source": [
    "#### TEST DATAFRAME RESULTS FOR DUPLICATE VALUES:"
   ]
  },
  {
   "cell_type": "code",
   "execution_count": 202,
   "metadata": {},
   "outputs": [
    {
     "name": "stdout",
     "output_type": "stream",
     "text": [
      "Dataframe results Ok!\n"
     ]
    }
   ],
   "source": [
    "if z['type'].value_counts().tolist()[0] == 1:\n",
    "    print(\"Dataframe results Ok!\")\n",
    "else:\n",
    "    print(\"Warning: Duplicate Values Present!\")"
   ]
  },
  {
   "cell_type": "code",
   "execution_count": 203,
   "metadata": {},
   "outputs": [
    {
     "data": {
      "text/html": [
       "<div>\n",
       "<style>\n",
       "    .dataframe thead tr:only-child th {\n",
       "        text-align: right;\n",
       "    }\n",
       "\n",
       "    .dataframe thead th {\n",
       "        text-align: left;\n",
       "    }\n",
       "\n",
       "    .dataframe tbody tr th {\n",
       "        vertical-align: top;\n",
       "    }\n",
       "</style>\n",
       "<table border=\"1\" class=\"dataframe\">\n",
       "  <thead>\n",
       "    <tr style=\"text-align: right;\">\n",
       "      <th></th>\n",
       "      <th>Average Fare</th>\n",
       "      <th>Rides Per City</th>\n",
       "      <th>City Type</th>\n",
       "      <th>Driver Counts</th>\n",
       "      <th>Percent Total Fare</th>\n",
       "      <th>Percent Total Rides</th>\n",
       "      <th>Percent Total Drivers</th>\n",
       "    </tr>\n",
       "    <tr>\n",
       "      <th>city</th>\n",
       "      <th></th>\n",
       "      <th></th>\n",
       "      <th></th>\n",
       "      <th></th>\n",
       "      <th></th>\n",
       "      <th></th>\n",
       "      <th></th>\n",
       "    </tr>\n",
       "  </thead>\n",
       "  <tbody>\n",
       "    <tr>\n",
       "      <th>Alvarezhaven</th>\n",
       "      <td>23.93</td>\n",
       "      <td>31</td>\n",
       "      <td>Urban</td>\n",
       "      <td>21</td>\n",
       "      <td>1.17%</td>\n",
       "      <td>1.31%</td>\n",
       "      <td>0.63%</td>\n",
       "    </tr>\n",
       "    <tr>\n",
       "      <th>Alyssaberg</th>\n",
       "      <td>20.61</td>\n",
       "      <td>26</td>\n",
       "      <td>Urban</td>\n",
       "      <td>67</td>\n",
       "      <td>0.84%</td>\n",
       "      <td>1.09%</td>\n",
       "      <td>2.00%</td>\n",
       "    </tr>\n",
       "    <tr>\n",
       "      <th>Anitamouth</th>\n",
       "      <td>37.32</td>\n",
       "      <td>9</td>\n",
       "      <td>Suburban</td>\n",
       "      <td>16</td>\n",
       "      <td>0.53%</td>\n",
       "      <td>0.38%</td>\n",
       "      <td>0.48%</td>\n",
       "    </tr>\n",
       "    <tr>\n",
       "      <th>Antoniomouth</th>\n",
       "      <td>23.62</td>\n",
       "      <td>22</td>\n",
       "      <td>Urban</td>\n",
       "      <td>21</td>\n",
       "      <td>0.82%</td>\n",
       "      <td>0.93%</td>\n",
       "      <td>0.63%</td>\n",
       "    </tr>\n",
       "    <tr>\n",
       "      <th>Aprilchester</th>\n",
       "      <td>21.98</td>\n",
       "      <td>19</td>\n",
       "      <td>Urban</td>\n",
       "      <td>49</td>\n",
       "      <td>0.66%</td>\n",
       "      <td>0.80%</td>\n",
       "      <td>1.46%</td>\n",
       "    </tr>\n",
       "  </tbody>\n",
       "</table>\n",
       "</div>"
      ],
      "text/plain": [
       "              Average Fare  Rides Per City City Type  Driver Counts  \\\n",
       "city                                                                  \n",
       "Alvarezhaven         23.93              31     Urban             21   \n",
       "Alyssaberg           20.61              26     Urban             67   \n",
       "Anitamouth           37.32               9  Suburban             16   \n",
       "Antoniomouth         23.62              22     Urban             21   \n",
       "Aprilchester         21.98              19     Urban             49   \n",
       "\n",
       "             Percent Total Fare Percent Total Rides Percent Total Drivers  \n",
       "city                                                                       \n",
       "Alvarezhaven              1.17%               1.31%                 0.63%  \n",
       "Alyssaberg                0.84%               1.09%                 2.00%  \n",
       "Anitamouth                0.53%               0.38%                 0.48%  \n",
       "Antoniomouth              0.82%               0.93%                 0.63%  \n",
       "Aprilchester              0.66%               0.80%                 1.46%  "
      ]
     },
     "execution_count": 203,
     "metadata": {},
     "output_type": "execute_result"
    }
   ],
   "source": [
    "# Get total fare per city\n",
    "total_fare_city = cityride_grouped_df[\"fare\"].sum()\n",
    "\n",
    "# % of Total Fares by City Type\n",
    "results_df['Percent Total Fare'] = (total_fare_city/total_fare_city.sum()*100).map(\"{0:,.2f}%\".format)\n",
    "\n",
    "# % of Total Rides by City Type\n",
    "results_df[\"Percent Total Rides\"] = (results_df['Rides Per City']/results_df['Rides Per City'].sum()*100).map(\"{0:,.2f}%\".format)\n",
    "\n",
    "# % of Total Drivers by City Type\n",
    "results_df['Percent Total Drivers'] = (results_df['driver_count']/results_df['driver_count'].sum()*100).map(\"{0:,.2f}%\".format)\n",
    "\n",
    "# Rename the some columns\n",
    "results_df = results_df.rename(columns={'driver_count':'Driver Counts', \"type\":\"City Type\"})\n",
    "\n",
    "results_df.head()\n"
   ]
  },
  {
   "cell_type": "code",
   "execution_count": 204,
   "metadata": {},
   "outputs": [
    {
     "data": {
      "text/plain": [
       "63651.310000000005"
      ]
     },
     "execution_count": 204,
     "metadata": {},
     "output_type": "execute_result"
    }
   ],
   "source": [
    "z = results_df.loc[[\"East Douglas\"]]\n",
    "z\n",
    "total_fare_city.sum()"
   ]
  },
  {
   "cell_type": "code",
   "execution_count": 225,
   "metadata": {},
   "outputs": [
    {
     "ename": "SyntaxError",
     "evalue": "invalid syntax (<ipython-input-225-9692a01eb7fe>, line 6)",
     "output_type": "error",
     "traceback": [
      "\u001b[0;36m  File \u001b[0;32m\"<ipython-input-225-9692a01eb7fe>\"\u001b[0;36m, line \u001b[0;32m6\u001b[0m\n\u001b[0;31m    label= (if results_df['Rides Per City'] == 'urban': label = legends[0]))\u001b[0m\n\u001b[0m             ^\u001b[0m\n\u001b[0;31mSyntaxError\u001b[0m\u001b[0;31m:\u001b[0m invalid syntax\n"
     ]
    }
   ],
   "source": [
    "colors = ['gold', 'lightskyblue', 'lightcoral']\n",
    "legends = ['Urban', 'Suburban', 'Rural']\n",
    "\n",
    "\n",
    "plt.scatter(x=results_df['Rides Per City'], y=results_df['Average Fare'], s=results_df['Driver Counts'], c=colors, \n",
    "            label=)\n",
    "plt.xlim(0,results_df['Rides Per City'].max())\n",
    "plt.ylim(0,results_df['Average Fare'].max())\n",
    "\n",
    "plt.title(\"Pyber Ride Sharing Data (2016)\")\n",
    "plt.xlabel(\"Average Fare (per city)\")\n",
    "plt.ylabel(\"Total Rides (per city)\")\n",
    "\n",
    "plt.legend()\n",
    "\n",
    "plt.yticks(np.arange(0, results_df['Average Fare'].max(), 5.0))\n",
    "plt.grid()\n",
    "\n",
    "plt.show()"
   ]
  },
  {
   "cell_type": "code",
   "execution_count": null,
   "metadata": {
    "collapsed": true
   },
   "outputs": [],
   "source": []
  }
 ],
 "metadata": {
  "kernelspec": {
   "display_name": "Python [conda env:PythonData_3]",
   "language": "python",
   "name": "conda-env-PythonData_3-py"
  },
  "language_info": {
   "codemirror_mode": {
    "name": "ipython",
    "version": 3
   },
   "file_extension": ".py",
   "mimetype": "text/x-python",
   "name": "python",
   "nbconvert_exporter": "python",
   "pygments_lexer": "ipython3",
   "version": "3.6.3"
  }
 },
 "nbformat": 4,
 "nbformat_minor": 2
}
