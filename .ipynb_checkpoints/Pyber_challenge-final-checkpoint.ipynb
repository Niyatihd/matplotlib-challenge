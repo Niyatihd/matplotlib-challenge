{
 "cells": [
  {
   "cell_type": "code",
   "execution_count": 2,
   "metadata": {
    "collapsed": true
   },
   "outputs": [],
   "source": [
    "# Dependencies\n",
    "import pandas as pd\n",
    "import numpy as np\n",
    "import os\n",
    "import matplotlib.pyplot as plt\n",
    "import string"
   ]
  },
  {
   "cell_type": "code",
   "execution_count": 17,
   "metadata": {},
   "outputs": [
    {
     "data": {
      "text/plain": [
       "Port James            2\n",
       "Edwardsbury           1\n",
       "West Brandy           1\n",
       "West Alexis           1\n",
       "Alyssaberg            1\n",
       "West Paulport         1\n",
       "Spencertown           1\n",
       "South Jennifer        1\n",
       "New Johnbury          1\n",
       "Rodriguezview         1\n",
       "Matthewside           1\n",
       "Sandymouth            1\n",
       "West Tony             1\n",
       "Kimberlychester       1\n",
       "Thomastown            1\n",
       "New Maryport          1\n",
       "Sarahview             1\n",
       "Jeffreyton            1\n",
       "Pamelahaven           1\n",
       "Prattfurt             1\n",
       "Carrollbury           1\n",
       "Port Johnstad         1\n",
       "Lisatown              1\n",
       "New Jessicamouth      1\n",
       "Jasonfort             1\n",
       "East Erin             1\n",
       "South Joseph          1\n",
       "South Roy             1\n",
       "Aprilchester          1\n",
       "West Jefferyfurt      1\n",
       "                     ..\n",
       "Kennethburgh          1\n",
       "North Whitney         1\n",
       "Campbellport          1\n",
       "Arnoldview            1\n",
       "West Kevintown        1\n",
       "Travisville           1\n",
       "Shelbyhaven           1\n",
       "South Bryanstad       1\n",
       "New Michelleberg      1\n",
       "South Josephville     1\n",
       "Maryside              1\n",
       "Jacobfort             1\n",
       "Lake Brenda           1\n",
       "Port Samantha         1\n",
       "New David             1\n",
       "Hernandezshire        1\n",
       "West Oscar            1\n",
       "Wiseborough           1\n",
       "Johnland              1\n",
       "West Evan             1\n",
       "Port Guytown          1\n",
       "Lake Jennaton         1\n",
       "New Andreamouth       1\n",
       "New Samanthaside      1\n",
       "Webstertown           1\n",
       "North Tara            1\n",
       "New Cindyborough      1\n",
       "South Gracechester    1\n",
       "Carrollfort           1\n",
       "Fosterside            1\n",
       "Name: city, Length: 125, dtype: int64"
      ]
     },
     "execution_count": 17,
     "metadata": {},
     "output_type": "execute_result"
    }
   ],
   "source": [
    "# Read the csv files\n",
    "city_data = pd.read_csv(\"raw_data/city_data.csv\")\n",
    "ride_data = pd.read_csv(\"raw_data/ride_data.csv\")\n",
    "city_data.head()\n",
    "x = city_data.loc[city_data['city'] == 'Port James']\n",
    "x\n",
    "city_data['city'].value_counts()"
   ]
  },
  {
   "cell_type": "code",
   "execution_count": 4,
   "metadata": {},
   "outputs": [
    {
     "data": {
      "text/html": [
       "<div>\n",
       "<style>\n",
       "    .dataframe thead tr:only-child th {\n",
       "        text-align: right;\n",
       "    }\n",
       "\n",
       "    .dataframe thead th {\n",
       "        text-align: left;\n",
       "    }\n",
       "\n",
       "    .dataframe tbody tr th {\n",
       "        vertical-align: top;\n",
       "    }\n",
       "</style>\n",
       "<table border=\"1\" class=\"dataframe\">\n",
       "  <thead>\n",
       "    <tr style=\"text-align: right;\">\n",
       "      <th></th>\n",
       "      <th>city</th>\n",
       "      <th>driver_count</th>\n",
       "      <th>type</th>\n",
       "    </tr>\n",
       "  </thead>\n",
       "  <tbody>\n",
       "    <tr>\n",
       "      <th>0</th>\n",
       "      <td>Kelseyland</td>\n",
       "      <td>63</td>\n",
       "      <td>Urban</td>\n",
       "    </tr>\n",
       "    <tr>\n",
       "      <th>1</th>\n",
       "      <td>Nguyenbury</td>\n",
       "      <td>8</td>\n",
       "      <td>Urban</td>\n",
       "    </tr>\n",
       "    <tr>\n",
       "      <th>2</th>\n",
       "      <td>East Douglas</td>\n",
       "      <td>12</td>\n",
       "      <td>Urban</td>\n",
       "    </tr>\n",
       "    <tr>\n",
       "      <th>3</th>\n",
       "      <td>West Dawnfurt</td>\n",
       "      <td>34</td>\n",
       "      <td>Urban</td>\n",
       "    </tr>\n",
       "    <tr>\n",
       "      <th>4</th>\n",
       "      <td>Rodriguezburgh</td>\n",
       "      <td>52</td>\n",
       "      <td>Urban</td>\n",
       "    </tr>\n",
       "  </tbody>\n",
       "</table>\n",
       "</div>"
      ],
      "text/plain": [
       "             city  driver_count   type\n",
       "0      Kelseyland            63  Urban\n",
       "1      Nguyenbury             8  Urban\n",
       "2    East Douglas            12  Urban\n",
       "3   West Dawnfurt            34  Urban\n",
       "4  Rodriguezburgh            52  Urban"
      ]
     },
     "execution_count": 4,
     "metadata": {},
     "output_type": "execute_result"
    }
   ],
   "source": [
    "# Check for NAN values and replace with 0\n",
    "city_data.fillna(value=0)\n",
    "city_data.head()\n",
    "#len(city_data)\n"
   ]
  },
  {
   "cell_type": "code",
   "execution_count": 13,
   "metadata": {},
   "outputs": [
    {
     "data": {
      "text/plain": [
       "32"
      ]
     },
     "execution_count": 13,
     "metadata": {},
     "output_type": "execute_result"
    }
   ],
   "source": [
    "ride_data.fillna(value=0)\n",
    "ride_data.head()\n",
    "y = ride_data.loc[ride_data['city'] == 'Port James']\n",
    "# y['fare'].count()\n",
    "y['fare'].mean()\n",
    "len(y)"
   ]
  },
  {
   "cell_type": "code",
   "execution_count": 6,
   "metadata": {},
   "outputs": [
    {
     "data": {
      "text/html": [
       "<div>\n",
       "<style>\n",
       "    .dataframe thead tr:only-child th {\n",
       "        text-align: right;\n",
       "    }\n",
       "\n",
       "    .dataframe thead th {\n",
       "        text-align: left;\n",
       "    }\n",
       "\n",
       "    .dataframe tbody tr th {\n",
       "        vertical-align: top;\n",
       "    }\n",
       "</style>\n",
       "<table border=\"1\" class=\"dataframe\">\n",
       "  <thead>\n",
       "    <tr style=\"text-align: right;\">\n",
       "      <th></th>\n",
       "      <th>date</th>\n",
       "      <th>city</th>\n",
       "      <th>type</th>\n",
       "      <th>driver_count</th>\n",
       "      <th>fare</th>\n",
       "      <th>ride_id</th>\n",
       "    </tr>\n",
       "  </thead>\n",
       "  <tbody>\n",
       "    <tr>\n",
       "      <th>1902</th>\n",
       "      <td>2016-12-04 06:16:36</td>\n",
       "      <td>Port James</td>\n",
       "      <td>Suburban</td>\n",
       "      <td>15</td>\n",
       "      <td>15.77</td>\n",
       "      <td>2259499336994</td>\n",
       "    </tr>\n",
       "    <tr>\n",
       "      <th>1934</th>\n",
       "      <td>2016-12-04 06:16:36</td>\n",
       "      <td>Port James</td>\n",
       "      <td>Suburban</td>\n",
       "      <td>3</td>\n",
       "      <td>15.77</td>\n",
       "      <td>2259499336994</td>\n",
       "    </tr>\n",
       "  </tbody>\n",
       "</table>\n",
       "</div>"
      ],
      "text/plain": [
       "                     date        city      type  driver_count   fare  \\\n",
       "1902  2016-12-04 06:16:36  Port James  Suburban            15  15.77   \n",
       "1934  2016-12-04 06:16:36  Port James  Suburban             3  15.77   \n",
       "\n",
       "            ride_id  \n",
       "1902  2259499336994  \n",
       "1934  2259499336994  "
      ]
     },
     "execution_count": 6,
     "metadata": {},
     "output_type": "execute_result"
    }
   ],
   "source": [
    "# Merge both the DFs into one\n",
    "cityride_df = city_data.merge(ride_data, how=\"outer\", on=\"city\")\n",
    "cityride_df = cityride_df[[\"date\", \"city\", \"type\", \"driver_count\", \"fare\", \"ride_id\"]]\n",
    "cityride_df.head()\n",
    "#len(cityride_df)\n",
    "\n",
    "h = cityride_df.loc[cityride_df['city'] == 'Port James']\n",
    "w =h['ride_id'].unique()\n",
    "i =  cityride_df.loc[cityride_df['ride_id'] == 2259499336994]\n",
    "#len(w)\n",
    "#h\n",
    "i"
   ]
  },
  {
   "cell_type": "markdown",
   "metadata": {},
   "source": [
    "### PYBER ANALYSIS"
   ]
  },
  {
   "cell_type": "code",
   "execution_count": 7,
   "metadata": {},
   "outputs": [
    {
     "data": {
      "text/plain": [
       "city\n",
       "Alvarezhaven    23.928710\n",
       "Alyssaberg      20.609615\n",
       "Anitamouth      37.315556\n",
       "Antoniomouth    23.625000\n",
       "Aprilchester    21.981579\n",
       "Name: fare, dtype: float64"
      ]
     },
     "execution_count": 7,
     "metadata": {},
     "output_type": "execute_result"
    }
   ],
   "source": [
    "# Groupby on city\n",
    "cityride_grouped_df = cityride_df.groupby([\"city\"])\n",
    "\n",
    "# Average fare per city by using groupby object\n",
    "average_fare = cityride_grouped_df[\"fare\"].mean()\n",
    "\n",
    "# Total number of rides per city\n",
    "total_rides_city = cityride_grouped_df[\"ride_id\"].count()\n",
    "\n",
    "# Total number of driver per city\n",
    "driver_count = city_data[[\"city\", \"driver_count\"]].set_index(\"city\")\n",
    "#####test1 = driver_count.loc[[\"Port James\"]]\n",
    "driver_count_grouped = driver_count.groupby([\"city\"])\n",
    "driver_count_grouped_df = pd.DataFrame(driver_count_grouped['driver_count'].sum())\n",
    "#####driver_count_grouped_df.loc['Port James']\n",
    "#####len(driver_count_grouped_df)  \n",
    "\n",
    "# City Type (Urban, Suburban, Rural)\n",
    "city_type= city_data[[\"city\", \"type\"]].set_index(\"city\")\n",
    "#####test1 = city_type.loc[[\"Port James\"]]\n",
    "city_type_grouped = city_type.groupby([\"city\", \"type\"])\n",
    "city_type_grouped_df = pd.DataFrame(city_type_grouped['type'].size())\n",
    "del city_type_grouped_df['type']\n",
    "city_type_grouped_df = city_type_grouped_df.reset_index(level=1)\n",
    "#####city_type_grouped_df.loc['Port James']\n",
    "#####len(city_type_grouped_df) \n",
    "    \n",
    "average_fare.head()\n",
    "#total_rides_city\n",
    "#final_df\n",
    "# driver_count_grouped_df.head()\n",
    "# city_type_grouped_df.head(100)"
   ]
  },
  {
   "cell_type": "code",
   "execution_count": 8,
   "metadata": {},
   "outputs": [
    {
     "data": {
      "text/html": [
       "<div>\n",
       "<style>\n",
       "    .dataframe thead tr:only-child th {\n",
       "        text-align: right;\n",
       "    }\n",
       "\n",
       "    .dataframe thead th {\n",
       "        text-align: left;\n",
       "    }\n",
       "\n",
       "    .dataframe tbody tr th {\n",
       "        vertical-align: top;\n",
       "    }\n",
       "</style>\n",
       "<table border=\"1\" class=\"dataframe\">\n",
       "  <thead>\n",
       "    <tr style=\"text-align: right;\">\n",
       "      <th></th>\n",
       "      <th>Average Fare</th>\n",
       "      <th>Rides Per City</th>\n",
       "    </tr>\n",
       "    <tr>\n",
       "      <th>city</th>\n",
       "      <th></th>\n",
       "      <th></th>\n",
       "    </tr>\n",
       "  </thead>\n",
       "  <tbody>\n",
       "    <tr>\n",
       "      <th>Alvarezhaven</th>\n",
       "      <td>23.928710</td>\n",
       "      <td>31</td>\n",
       "    </tr>\n",
       "    <tr>\n",
       "      <th>Alyssaberg</th>\n",
       "      <td>20.609615</td>\n",
       "      <td>26</td>\n",
       "    </tr>\n",
       "    <tr>\n",
       "      <th>Anitamouth</th>\n",
       "      <td>37.315556</td>\n",
       "      <td>9</td>\n",
       "    </tr>\n",
       "    <tr>\n",
       "      <th>Antoniomouth</th>\n",
       "      <td>23.625000</td>\n",
       "      <td>22</td>\n",
       "    </tr>\n",
       "    <tr>\n",
       "      <th>Aprilchester</th>\n",
       "      <td>21.981579</td>\n",
       "      <td>19</td>\n",
       "    </tr>\n",
       "  </tbody>\n",
       "</table>\n",
       "</div>"
      ],
      "text/plain": [
       "              Average Fare  Rides Per City\n",
       "city                                      \n",
       "Alvarezhaven     23.928710              31\n",
       "Alyssaberg       20.609615              26\n",
       "Anitamouth       37.315556               9\n",
       "Antoniomouth     23.625000              22\n",
       "Aprilchester     21.981579              19"
      ]
     },
     "execution_count": 8,
     "metadata": {},
     "output_type": "execute_result"
    }
   ],
   "source": [
    "results_df = pd.DataFrame({\"Average Fare\":average_fare, \"Rides Per City\":total_rides_city})\n",
    "results_df.head()"
   ]
  },
  {
   "cell_type": "code",
   "execution_count": 9,
   "metadata": {},
   "outputs": [
    {
     "data": {
      "text/html": [
       "<div>\n",
       "<style>\n",
       "    .dataframe thead tr:only-child th {\n",
       "        text-align: right;\n",
       "    }\n",
       "\n",
       "    .dataframe thead th {\n",
       "        text-align: left;\n",
       "    }\n",
       "\n",
       "    .dataframe tbody tr th {\n",
       "        vertical-align: top;\n",
       "    }\n",
       "</style>\n",
       "<table border=\"1\" class=\"dataframe\">\n",
       "  <thead>\n",
       "    <tr style=\"text-align: right;\">\n",
       "      <th></th>\n",
       "      <th>Average Fare</th>\n",
       "      <th>Rides Per City</th>\n",
       "      <th>type</th>\n",
       "      <th>driver_count</th>\n",
       "    </tr>\n",
       "    <tr>\n",
       "      <th>city</th>\n",
       "      <th></th>\n",
       "      <th></th>\n",
       "      <th></th>\n",
       "      <th></th>\n",
       "    </tr>\n",
       "  </thead>\n",
       "  <tbody>\n",
       "    <tr>\n",
       "      <th>Alvarezhaven</th>\n",
       "      <td>23.928710</td>\n",
       "      <td>31</td>\n",
       "      <td>Urban</td>\n",
       "      <td>21</td>\n",
       "    </tr>\n",
       "    <tr>\n",
       "      <th>Alyssaberg</th>\n",
       "      <td>20.609615</td>\n",
       "      <td>26</td>\n",
       "      <td>Urban</td>\n",
       "      <td>67</td>\n",
       "    </tr>\n",
       "    <tr>\n",
       "      <th>Anitamouth</th>\n",
       "      <td>37.315556</td>\n",
       "      <td>9</td>\n",
       "      <td>Suburban</td>\n",
       "      <td>16</td>\n",
       "    </tr>\n",
       "    <tr>\n",
       "      <th>Antoniomouth</th>\n",
       "      <td>23.625000</td>\n",
       "      <td>22</td>\n",
       "      <td>Urban</td>\n",
       "      <td>21</td>\n",
       "    </tr>\n",
       "    <tr>\n",
       "      <th>Aprilchester</th>\n",
       "      <td>21.981579</td>\n",
       "      <td>19</td>\n",
       "      <td>Urban</td>\n",
       "      <td>49</td>\n",
       "    </tr>\n",
       "  </tbody>\n",
       "</table>\n",
       "</div>"
      ],
      "text/plain": [
       "              Average Fare  Rides Per City      type  driver_count\n",
       "city                                                              \n",
       "Alvarezhaven     23.928710              31     Urban            21\n",
       "Alyssaberg       20.609615              26     Urban            67\n",
       "Anitamouth       37.315556               9  Suburban            16\n",
       "Antoniomouth     23.625000              22     Urban            21\n",
       "Aprilchester     21.981579              19     Urban            49"
      ]
     },
     "execution_count": 9,
     "metadata": {},
     "output_type": "execute_result"
    }
   ],
   "source": [
    "final_results_df = results_df.join([city_type_grouped_df, driver_count_grouped_df])\n",
    "final_results_df.head()"
   ]
  },
  {
   "cell_type": "code",
   "execution_count": 10,
   "metadata": {
    "collapsed": true
   },
   "outputs": [],
   "source": [
    "# cityride_df = cityride_df.loc[cityride_df[\"city\"] == \"Fosterside\",:]\n",
    "# #cityride_df[\"city\"].unique()\n",
    "# cityride_df.head()\n"
   ]
  },
  {
   "cell_type": "code",
   "execution_count": 11,
   "metadata": {},
   "outputs": [
    {
     "data": {
      "text/html": [
       "<div>\n",
       "<style>\n",
       "    .dataframe thead tr:only-child th {\n",
       "        text-align: right;\n",
       "    }\n",
       "\n",
       "    .dataframe thead th {\n",
       "        text-align: left;\n",
       "    }\n",
       "\n",
       "    .dataframe tbody tr th {\n",
       "        vertical-align: top;\n",
       "    }\n",
       "</style>\n",
       "<table border=\"1\" class=\"dataframe\">\n",
       "  <thead>\n",
       "    <tr style=\"text-align: right;\">\n",
       "      <th></th>\n",
       "      <th>Average Fare</th>\n",
       "      <th>Rides Per City</th>\n",
       "      <th>type</th>\n",
       "      <th>driver_count</th>\n",
       "    </tr>\n",
       "    <tr>\n",
       "      <th>city</th>\n",
       "      <th></th>\n",
       "      <th></th>\n",
       "      <th></th>\n",
       "      <th></th>\n",
       "    </tr>\n",
       "  </thead>\n",
       "  <tbody>\n",
       "    <tr>\n",
       "      <th>Port James</th>\n",
       "      <td>31.806562</td>\n",
       "      <td>64</td>\n",
       "      <td>Suburban</td>\n",
       "      <td>18</td>\n",
       "    </tr>\n",
       "  </tbody>\n",
       "</table>\n",
       "</div>"
      ],
      "text/plain": [
       "            Average Fare  Rides Per City      type  driver_count\n",
       "city                                                            \n",
       "Port James     31.806562              64  Suburban            18"
      ]
     },
     "execution_count": 11,
     "metadata": {},
     "output_type": "execute_result"
    }
   ],
   "source": [
    "z = final_results_df.loc[[\"Port James\"]]\n",
    "z"
   ]
  },
  {
   "cell_type": "code",
   "execution_count": null,
   "metadata": {
    "collapsed": true
   },
   "outputs": [],
   "source": []
  },
  {
   "cell_type": "code",
   "execution_count": null,
   "metadata": {
    "collapsed": true
   },
   "outputs": [],
   "source": []
  }
 ],
 "metadata": {
  "kernelspec": {
   "display_name": "Python [conda env:PythonData_3]",
   "language": "python",
   "name": "conda-env-PythonData_3-py"
  },
  "language_info": {
   "codemirror_mode": {
    "name": "ipython",
    "version": 3
   },
   "file_extension": ".py",
   "mimetype": "text/x-python",
   "name": "python",
   "nbconvert_exporter": "python",
   "pygments_lexer": "ipython3",
   "version": "3.6.3"
  }
 },
 "nbformat": 4,
 "nbformat_minor": 2
}
